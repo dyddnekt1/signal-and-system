{
  "nbformat": 4,
  "nbformat_minor": 0,
  "metadata": {
    "colab": {
      "name": "signal_and_system_HW2.ipynb",
      "provenance": [],
      "collapsed_sections": [],
      "include_colab_link": true
    },
    "kernelspec": {
      "name": "python3",
      "display_name": "Python 3"
    }
  },
  "cells": [
    {
      "cell_type": "markdown",
      "metadata": {
        "id": "view-in-github",
        "colab_type": "text"
      },
      "source": [
        "<a href=\"https://colab.research.google.com/github/dyddnekt1/signal-and-system/blob/master/signal_and_system_HW2.ipynb\" target=\"_parent\"><img src=\"https://colab.research.google.com/assets/colab-badge.svg\" alt=\"Open In Colab\"/></a>"
      ]
    },
    {
      "cell_type": "code",
      "metadata": {
        "id": "7wm2Sgsawen5",
        "colab_type": "code",
        "colab": {}
      },
      "source": [
        "from matplotlib import pyplot as plt\n",
        "import numpy as np"
      ],
      "execution_count": 0,
      "outputs": []
    },
    {
      "cell_type": "code",
      "metadata": {
        "id": "Jpe3p472wvF_",
        "colab_type": "code",
        "colab": {}
      },
      "source": [
        "t = np.arange(-10, 10, .01)\n",
        "def x(t):\n",
        "  y = np.zeros(len(t))\n",
        "  for t, tk in enumerate(t):\n",
        "    if tk < -1:\n",
        "      y[t] = 0\n",
        "    elif tk <= 0:\n",
        "      y[t] = tk + 1\n",
        "    elif tk <= 1:\n",
        "      y[t] = 1\n",
        "    elif tk <= 2:\n",
        "      y[t] = 2\n",
        "    elif tk <= 3:\n",
        "      y[t] = tk - 3\n",
        "    else:\n",
        "      y[t] = 0\n",
        "  return y\n",
        "\n",
        "def h(t):\n",
        "  y = np.zeros(len(t))\n",
        "  for t, tk in enumerate(t):\n",
        "    if tk < -2:\n",
        "      y[t] = 0\n",
        "    elif tk < -1:\n",
        "      y[t] = 1\n",
        "    elif tk < 0:\n",
        "      y[t] = -tk\n",
        "    elif tk < 1:\n",
        "      y[t] = 1\n",
        "    elif tk < 2:\n",
        "      y[t] = -tk + 2\n",
        "    else:\n",
        "      y[t] = 0\n",
        "  return y\n",
        "\n",
        "def u(t):\n",
        "  y = np.zeros(len(t))\n",
        "  for t, tk in enumerate(t):\n",
        "    if tk < 0 :\n",
        "      y[t] = 0\n",
        "    else:\n",
        "      y[t] = 1\n",
        "  return y\n",
        "\n",
        "def d(t):\n",
        "  y = np.zeros(len(t))\n",
        "  for t, tk in enumerate(t):\n",
        "    if np.abs(tk) < .0001:\n",
        "      y[t] = 1\n",
        "    else:\n",
        "      y[t] = 0\n",
        "  return y"
      ],
      "execution_count": 0,
      "outputs": []
    },
    {
      "cell_type": "markdown",
      "metadata": {
        "id": "E0NfSxW8iqem",
        "colab_type": "text"
      },
      "source": [
        "a"
      ]
    },
    {
      "cell_type": "code",
      "metadata": {
        "id": "7PHMS_BjiSBv",
        "colab_type": "code",
        "outputId": "71eceddd-ba4d-4f1e-c13b-7763d4ebc6fc",
        "colab": {
          "base_uri": "https://localhost:8080/",
          "height": 286
        }
      },
      "source": [
        "plt.axis([0, 6, -2 , 3])\n",
        "plt.plot(t, x(t - 2))"
      ],
      "execution_count": 0,
      "outputs": [
        {
          "output_type": "execute_result",
          "data": {
            "text/plain": [
              "[<matplotlib.lines.Line2D at 0x7fbaea789e80>]"
            ]
          },
          "metadata": {
            "tags": []
          },
          "execution_count": 3
        },
        {
          "output_type": "display_data",
          "data": {
            "image/png": "[encoded data removed]",
            "text/plain": [
              "<Figure size 432x288 with 1 Axes>"
            ]
          },
          "metadata": {
            "tags": [],
            "needs_background": "light"
          }
        }
      ]
    },
    {
      "cell_type": "code",
      "metadata": {
        "colab_type": "code",
        "id": "gEPwTG-0igZf",
        "outputId": "f8307ad5-92e3-439b-9e3f-f8a64e6ef7d6",
        "colab": {
          "base_uri": "https://localhost:8080/",
          "height": 286
        }
      },
      "source": [
        "plt.axis([-2, 3, -1, 4])\n",
        "plt.plot(t, (x(t) + x(2 - t))*u(1 - t))"
      ],
      "execution_count": 0,
      "outputs": [
        {
          "output_type": "execute_result",
          "data": {
            "text/plain": [
              "[<matplotlib.lines.Line2D at 0x7fbaea789438>]"
            ]
          },
          "metadata": {
            "tags": []
          },
          "execution_count": 4
        },
        {
          "output_type": "display_data",
          "data": {
            "image/png": "[encoded data removed]",
            "text/plain": [
              "<Figure size 432x288 with 1 Axes>"
            ]
          },
          "metadata": {
            "tags": [],
            "needs_background": "light"
          }
        }
      ]
    },
    {
      "cell_type": "code",
      "metadata": {
        "colab_type": "code",
        "id": "g6Zq6BP8igrE",
        "outputId": "72040d36-48c2-46b8-cc61-10228ff6ebd3",
        "colab": {
          "base_uri": "https://localhost:8080/",
          "height": 286
        }
      },
      "source": [
        "plt.axis([-2, 3, -3 , 1])\n",
        "plt.plot(t, x(t)*(d(t + 1.5) - d(t - 1.5)))"
      ],
      "execution_count": 0,
      "outputs": [
        {
          "output_type": "execute_result",
          "data": {
            "text/plain": [
              "[<matplotlib.lines.Line2D at 0x7fbae99df438>]"
            ]
          },
          "metadata": {
            "tags": []
          },
          "execution_count": 5
        },
        {
          "output_type": "display_data",
          "data": {
            "image/png": "[encoded data removed]",
            "text/plain": [
              "<Figure size 432x288 with 1 Axes>"
            ]
          },
          "metadata": {
            "tags": [],
            "needs_background": "light"
          }
        }
      ]
    },
    {
      "cell_type": "markdown",
      "metadata": {
        "colab_type": "text",
        "id": "HpCDzLZHivv6"
      },
      "source": [
        "b"
      ]
    },
    {
      "cell_type": "code",
      "metadata": {
        "colab_type": "code",
        "id": "QLhVaNXWihQo",
        "outputId": "8ef4ed94-cf09-4f78-c49d-93c15d90a91f",
        "colab": {
          "base_uri": "https://localhost:8080/",
          "height": 286
        }
      },
      "source": [
        "plt.axis([-6, 0, -1 , 2])\n",
        "plt.plot(t, h(t + 3))"
      ],
      "execution_count": 0,
      "outputs": [
        {
          "output_type": "execute_result",
          "data": {
            "text/plain": [
              "[<matplotlib.lines.Line2D at 0x7fbae9eba2b0>]"
            ]
          },
          "metadata": {
            "tags": []
          },
          "execution_count": 6
        },
        {
          "output_type": "display_data",
          "data": {
            "image/png": "[encoded data removed]",
            "text/plain": [
              "<Figure size 432x288 with 1 Axes>"
            ]
          },
          "metadata": {
            "tags": [],
            "needs_background": "light"
          }
        }
      ]
    },
    {
      "cell_type": "code",
      "metadata": {
        "colab_type": "code",
        "id": "rqav1dfjihnr",
        "outputId": "3fa64ca5-e06f-4c79-9913-f75b4c692a83",
        "colab": {
          "base_uri": "https://localhost:8080/",
          "height": 286
        }
      },
      "source": [
        "plt.axis([-1, 2, -1 , 2])\n",
        "plt.plot(t, h(1 - 2*t))"
      ],
      "execution_count": 0,
      "outputs": [
        {
          "output_type": "execute_result",
          "data": {
            "text/plain": [
              "[<matplotlib.lines.Line2D at 0x7fbae9910898>]"
            ]
          },
          "metadata": {
            "tags": []
          },
          "execution_count": 7
        },
        {
          "output_type": "display_data",
          "data": {
            "image/png": "[encoded data removed]",
            "text/plain": [
              "<Figure size 432x288 with 1 Axes>"
            ]
          },
          "metadata": {
            "tags": [],
            "needs_background": "light"
          }
        }
      ]
    },
    {
      "cell_type": "code",
      "metadata": {
        "colab_type": "code",
        "id": "X5UQ0uIPihxN",
        "outputId": "e1768eff-67ca-4ed2-841c-7fb117f4ad81",
        "colab": {
          "base_uri": "https://localhost:8080/",
          "height": 286
        }
      },
      "source": [
        "plt.axis([-2, 2, -1 , 2])\n",
        "plt.plot(t, h(t)*(u(t + 1) - u(t - 1)))"
      ],
      "execution_count": 0,
      "outputs": [
        {
          "output_type": "execute_result",
          "data": {
            "text/plain": [
              "[<matplotlib.lines.Line2D at 0x7fbae99a6358>]"
            ]
          },
          "metadata": {
            "tags": []
          },
          "execution_count": 8
        },
        {
          "output_type": "display_data",
          "data": {
            "image/png": "[encoded data removed]",
            "text/plain": [
              "<Figure size 432x288 with 1 Axes>"
            ]
          },
          "metadata": {
            "tags": [],
            "needs_background": "light"
          }
        }
      ]
    },
    {
      "cell_type": "markdown",
      "metadata": {
        "colab_type": "text",
        "id": "6qjHqTYwiwUq"
      },
      "source": [
        "c"
      ]
    },
    {
      "cell_type": "code",
      "metadata": {
        "colab_type": "code",
        "id": "e22nD_YTiiEB",
        "outputId": "5ce328aa-d404-4bbe-f352-768e578e46e1",
        "colab": {
          "base_uri": "https://localhost:8080/",
          "height": 286
        }
      },
      "source": [
        "plt.axis([-3, 3, -1 , 2])\n",
        "plt.plot(t, x(t)*h(t + 1))"
      ],
      "execution_count": 0,
      "outputs": [
        {
          "output_type": "execute_result",
          "data": {
            "text/plain": [
              "[<matplotlib.lines.Line2D at 0x7fbae9863898>]"
            ]
          },
          "metadata": {
            "tags": []
          },
          "execution_count": 9
        },
        {
          "output_type": "display_data",
          "data": {
            "image/png": "[encoded data removed]",
            "text/plain": [
              "<Figure size 432x288 with 1 Axes>"
            ]
          },
          "metadata": {
            "tags": [],
            "needs_background": "light"
          }
        }
      ]
    },
    {
      "cell_type": "code",
      "metadata": {
        "colab_type": "code",
        "id": "PyJ9t0muiiI0",
        "outputId": "ab70efa2-f60d-411d-b6b3-74b47468f9ab",
        "colab": {
          "base_uri": "https://localhost:8080/",
          "height": 286
        }
      },
      "source": [
        "plt.axis([-2, 3, -1 , 3])\n",
        "plt.plot(t, x(1 - t)*h(t - 1))"
      ],
      "execution_count": 0,
      "outputs": [
        {
          "output_type": "execute_result",
          "data": {
            "text/plain": [
              "[<matplotlib.lines.Line2D at 0x7fbae9a38b38>]"
            ]
          },
          "metadata": {
            "tags": []
          },
          "execution_count": 10
        },
        {
          "output_type": "display_data",
          "data": {
            "image/png": "[encoded data removed]",
            "text/plain": [
              "<Figure size 432x288 with 1 Axes>"
            ]
          },
          "metadata": {
            "tags": [],
            "needs_background": "light"
          }
        }
      ]
    },
    {
      "cell_type": "code",
      "metadata": {
        "colab_type": "code",
        "id": "l558L2pYiiMG",
        "outputId": "da0916ee-2923-42d7-e19f-49a1d84421cc",
        "colab": {
          "base_uri": "https://localhost:8080/",
          "height": 282
        }
      },
      "source": [
        "# 다 0인듯?\n",
        "plt.plot(t, x(2 - t/2)*h(t + 4))"
      ],
      "execution_count": 0,
      "outputs": [
        {
          "output_type": "execute_result",
          "data": {
            "text/plain": [
              "[<matplotlib.lines.Line2D at 0x7fbae93c0f28>]"
            ]
          },
          "metadata": {
            "tags": []
          },
          "execution_count": 19
        },
        {
          "output_type": "display_data",
          "data": {
            "image/png": "[encoded data removed]",
            "text/plain": [
              "<Figure size 432x288 with 1 Axes>"
            ]
          },
          "metadata": {
            "tags": [],
            "needs_background": "light"
          }
        }
      ]
    },
    {
      "cell_type": "markdown",
      "metadata": {
        "id": "lstiW_eNrCkq",
        "colab_type": "text"
      },
      "source": [
        "# **2번**"
      ]
    },
    {
      "cell_type": "code",
      "metadata": {
        "id": "ThH9OVzZk7dk",
        "colab_type": "code",
        "colab": {}
      },
      "source": [
        "def even(f, t):\n",
        "  return (f(t) + f(-t))/2\n",
        "\n",
        "def odd(f, t):\n",
        "  return (f(t) - f(-t))/2\n",
        "\n",
        "#fx = evenx + oddx\n",
        "#f-x = even-x + ood-x = evenx - oddx\n",
        "#fx + f-x = 2evenx\n",
        "#fx - f-x = 2oddx"
      ],
      "execution_count": 0,
      "outputs": []
    },
    {
      "cell_type": "code",
      "metadata": {
        "id": "DfgwUConri1T",
        "colab_type": "code",
        "colab": {}
      },
      "source": [
        "def x2(t):\n",
        "  y = np.zeros(len(t))\n",
        "  for t, tk in enumerate(t):\n",
        "    if tk < -2:\n",
        "      y[t] = 0\n",
        "    elif tk < -1:\n",
        "      y[t] = tk + 2\n",
        "    elif tk < 0:\n",
        "      y[t] = -tk\n",
        "    elif tk < 1:\n",
        "      y[t] = tk\n",
        "    else:\n",
        "      y[t] = 1\n",
        "  return y\n",
        "\n",
        "def x3(t):\n",
        "  y = np.zeros(len(t))\n",
        "  for t, tk in enumerate(t):\n",
        "    if tk < 0:\n",
        "      y[t] = -2*tk\n",
        "    else:\n",
        "      y[t] = tk\n",
        "  return y"
      ],
      "execution_count": 0,
      "outputs": []
    },
    {
      "cell_type": "code",
      "metadata": {
        "id": "Q77qI5BEsAhf",
        "colab_type": "code",
        "outputId": "492c489d-d4ba-4b8b-a8ae-e8e5f0cc5332",
        "colab": {
          "base_uri": "https://localhost:8080/",
          "height": 286
        }
      },
      "source": [
        "plt.axis([-3, 3, -2, 2])\n",
        "plt.plot(t, even(x2, t))\n",
        "plt.plot(t, odd(x2, t), 'b--') #점선"
      ],
      "execution_count": 0,
      "outputs": [
        {
          "output_type": "execute_result",
          "data": {
            "text/plain": [
              "[<matplotlib.lines.Line2D at 0x7fbae9710fd0>]"
            ]
          },
          "metadata": {
            "tags": []
          },
          "execution_count": 14
        },
        {
          "output_type": "display_data",
          "data": {
            "image/png": "[encoded data removed]",
            "text/plain": [
              "<Figure size 432x288 with 1 Axes>"
            ]
          },
          "metadata": {
            "tags": [],
            "needs_background": "light"
          }
        }
      ]
    },
    {
      "cell_type": "code",
      "metadata": {
        "id": "LSEqThtvtTEZ",
        "colab_type": "code",
        "outputId": "d68c5f62-4507-44e4-8225-816505783cfa",
        "colab": {
          "base_uri": "https://localhost:8080/",
          "height": 286
        }
      },
      "source": [
        "plt.axis([-2, 2, -3, 3])\n",
        "plt.plot(t, even(x3, t))\n",
        "plt.plot(t, odd(x3, t), 'b--') #점선"
      ],
      "execution_count": 0,
      "outputs": [
        {
          "output_type": "execute_result",
          "data": {
            "text/plain": [
              "[<matplotlib.lines.Line2D at 0x7fbae96fe278>]"
            ]
          },
          "metadata": {
            "tags": []
          },
          "execution_count": 15
        },
        {
          "output_type": "display_data",
          "data": {
            "image/png": "[encoded data removed]",
            "text/plain": [
              "<Figure size 432x288 with 1 Axes>"
            ]
          },
          "metadata": {
            "tags": [],
            "needs_background": "light"
          }
        }
      ]
    }
  ]
}